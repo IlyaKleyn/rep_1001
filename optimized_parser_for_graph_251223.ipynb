{
 "cells": [
  {
   "cell_type": "code",
   "execution_count": null,
   "id": "2f44d855",
   "metadata": {},
   "outputs": [],
   "source": [
    "import pandas as pd\n",
    "import re\n",
    "import csv\n",
    "from datetime import datetime\n",
    "current_datetime = datetime.now()\n",
    "str_current_datetime=current_datetime.strftime('%Y-%m-%d')\n",
    "with open(\"bview_ru_on_251223.csv\", 'r', encoding='utf-8') as file:\n",
    "    file_lines = (line for line in file)\n",
    "    line_values = (line.rstrip().split(',') for line in file_lines)\n",
    "    # print(list(line_values))\n",
    "    # [['user_id', 'user_name', 'user_ip', 'date', 'page_url'], ['\"122\"', '\"James\"', '\"178.178.178.178\"', '\"2023-12-12\"', '\"nan\"']]\n",
    "    # file_headers = next(line_values)\n",
    "    '''file_headers = ['BGP Protocol',\n",
    "                    'timestamp (in epoch format)',\n",
    "                    'W/A/B (withdrawal/announcement/routing table)',\n",
    "                    'Peer IP',\n",
    "                    'Peer ASN (ASN of the monitor)',\n",
    "                    'Prefix',\n",
    "                    'ASPath',\n",
    "                    'Origin Protocol (typically always IGP)',\n",
    "                    'Next Hop',\n",
    "                    'LocalPref',\n",
    "                    'MED',\n",
    "                    'Community strings',\n",
    "                    'Atomic Aggregator',\n",
    "                    'Aggregator'\n",
    "                   ]'''\n",
    "    file_headers = ['utimestamp', 'Peer_IP', 'Prefix', 'ASPath']\n",
    "    line_dicts = (dict(zip(file_headers, data)) for data in line_values)\n",
    "    #result = (\n",
    "    #(line['timestamp (in epoch format)'], line['Peer IP'], line['Prefix'], line['ASPath'] )\n",
    "    #for line in line_dicts if '{' not in line and '}' not in line\n",
    "    #)\n",
    "    # {(\\d{1,}\\s*)+}\n",
    "    result = (\n",
    "    (re.sub(r'{(\\d{1,}\\s*)+.*', '', line['ASPath']) )\n",
    "    for line in line_dicts\n",
    "    )\n",
    "    df = pd.DataFrame(result)\n",
    "    df.to_csv(f\"preprocessed_graph_data_on_{str_current_datetime}.csv\", sep='\\t', index=False, header=False, \n",
    "                                     quoting=csv.QUOTE_NONE)\n",
    "    #writer = csv.writer(file2, delimiter=';', quoting=csv.QUOTE_NONNUMERIC)\n",
    "    #columns=['user_name', 'user_ip']\n",
    "    #writer.writerow(columns)\n",
    "    #for row in result:\n",
    "    #    writer.writerow(row)"
   ]
  }
 ],
 "metadata": {
  "kernelspec": {
   "display_name": "Python 3 (ipykernel)",
   "language": "python",
   "name": "python3"
  },
  "language_info": {
   "codemirror_mode": {
    "name": "ipython",
    "version": 3
   },
   "file_extension": ".py",
   "mimetype": "text/x-python",
   "name": "python",
   "nbconvert_exporter": "python",
   "pygments_lexer": "ipython3",
   "version": "3.10.9"
  }
 },
 "nbformat": 4,
 "nbformat_minor": 5
}
